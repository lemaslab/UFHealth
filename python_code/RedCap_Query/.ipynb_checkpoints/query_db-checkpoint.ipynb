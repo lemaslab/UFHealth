{
 "cells": [
  {
   "cell_type": "code",
   "execution_count": null,
   "metadata": {},
   "outputs": [],
   "source": [
    "# Imports - Always run this block first\n",
    "\n",
    "import BlueCap\n",
    "\n",
    "# In Jupyter, blocks can be run one at a time by clicking the block and pressing Shift+Enter\n",
    "# This will also move the current selected block to the next block"
   ]
  },
  {
   "cell_type": "code",
   "execution_count": null,
   "metadata": {},
   "outputs": [],
   "source": [
    "# Run this block to show available fields to be extracted\n",
    "bc = BlueCap.QueryDatabase()\n",
    "bc.show_fields()"
   ]
  },
  {
   "cell_type": "code",
   "execution_count": null,
   "metadata": {},
   "outputs": [],
   "source": [
    "# Once you've chosen which fields to select, fill the fields list below\n",
    "# Ex: \n",
    "#    fields = ['baby_dob','baby_birth_wt_gr', 'baby_gender']\n",
    "#    **You do NOT need to add 'part_id' to the fields list, as it is extracted by default\n",
    "# Make sure you add '' around the field names when typing them into the list\n",
    "\n",
    "# You can also cull blank values in specified fields by altering the bottom line of code, adding the del_blank attribute\n",
    "# Ex: \n",
    "#    bc = BlueCap.QueryDatabase(fields=fields, del_blank=['baby_dob','baby_birth_wt_gr'])\n",
    "\n",
    "# Or the same thing can be done by adding elements to, then calling the del_blank list:\n",
    "# Ex:\n",
    "#    del_blank = ['baby_dob', 'baby_birth_wt_gr']\n",
    "#    bc = BlueCap.QueryDatabase(fields=fields, del_blank=del_blank)\n",
    "\n",
    "# Adding fields to del_blank is not required, as del_blank is an empty list by default\n",
    "fields = []\n",
    "del_blank = []"
   ]
  },
  {
   "cell_type": "code",
   "execution_count": null,
   "metadata": {},
   "outputs": [],
   "source": [
    "# Run this line after adding desired fields to the fields list above\n",
    "# Adding elements to the del_blank list is optional\n",
    "\n",
    "# The returned value 'data_frame' is a pandas dataframe object\n",
    "\n",
    "bc = BlueCap.QueryDatabase(fields=fields)\n",
    "data_frame = bc.export()"
   ]
  },
  {
   "cell_type": "code",
   "execution_count": null,
   "metadata": {},
   "outputs": [],
   "source": [
    "# You can run this block to get a visual of the head and tail ends of your extracted data\n",
    "\n",
    "data_frame.head(100)\n",
    "data_frame.tail(100)"
   ]
  }
 ],
 "metadata": {
  "kernelspec": {
   "display_name": "Python 3",
   "language": "python",
   "name": "python3"
  },
  "language_info": {
   "codemirror_mode": {
    "name": "ipython",
    "version": 3
   },
   "file_extension": ".py",
   "mimetype": "text/x-python",
   "name": "python",
   "nbconvert_exporter": "python",
   "pygments_lexer": "ipython3",
   "version": "3.7.4"
  }
 },
 "nbformat": 4,
 "nbformat_minor": 2
}
