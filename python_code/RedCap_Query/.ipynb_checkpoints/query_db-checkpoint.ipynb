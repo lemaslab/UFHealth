{
 "cells": [
  {
   "cell_type": "code",
   "execution_count": null,
   "metadata": {},
   "outputs": [],
   "source": [
    "# Imports - Always run this block first\n",
    "\n",
    "import BlueCap\n",
    "import matplotlib.pyplot as plt\n",
    "import numpy as np\n",
    "\n",
    "# In Jupyter, blocks can be run one at a time by clicking the block and pressing Shift+Enter\n",
    "# This will also move the current selected block to the next block"
   ]
  },
  {
   "cell_type": "code",
   "execution_count": null,
   "metadata": {},
   "outputs": [],
   "source": [
    "# Run this block to show available fields to be extracted\n",
    "bc = BlueCap.QueryDatabase()\n",
    "bc.show_fields()"
   ]
  },
  {
   "cell_type": "code",
   "execution_count": null,
   "metadata": {},
   "outputs": [],
   "source": [
    "# Once you've chosen which fields to select, fill the fields list below\n",
    "# Ex: \n",
    "#    fields = ['baby_dob','baby_birth_wt_gr', 'baby_gender']\n",
    "#    **You do NOT need to add 'part_id' to the fields list, as it is extracted by default\n",
    "# Make sure you add '' around the field names when typing them into the list\n",
    "\n",
    "# You can also cull blank values in specified fields by altering the bottom line of code, adding the del_blank attribute\n",
    "# Ex: \n",
    "#    bc = BlueCap.QueryDatabase(fields=fields, del_blank=['baby_dob','baby_birth_wt_gr'])\n",
    "\n",
    "# Or the same thing can be done by adding elements to, then calling the del_blank list:\n",
    "# Ex:\n",
    "#    del_blank = ['baby_dob', 'baby_birth_wt_gr']\n",
    "#    bc = BlueCap.QueryDatabase(fields=fields, del_blank=del_blank)\n",
    "\n",
    "# Adding fields to del_blank is not required, as del_blank is an empty list by default\n",
    "# The order in which the fields are written doesn't matter; columns will be put in numerical order (seen by running the previous block)\n",
    "fields = ['baby_dob']\n",
    "\n",
    "del_blank = ['baby_dob']"
   ]
  },
  {
   "cell_type": "code",
   "execution_count": null,
   "metadata": {},
   "outputs": [],
   "source": [
    "# Run this line after adding desired fields to the fields list above\n",
    "# Adding elements to the del_blank list is optional\n",
    "\n",
    "# The returned value 'data_frame' is a pandas dataframe object\n",
    "\n",
    "bc = BlueCap.QueryDatabase(fields=fields, del_blank=del_blank)\n",
    "data_frame = bc.export()"
   ]
  },
  {
   "cell_type": "code",
   "execution_count": null,
   "metadata": {
    "scrolled": false
   },
   "outputs": [],
   "source": [
    "# You can run this block to get a visual of the head and tail ends of your extracted data\n",
    "\n",
    "data_frame.head(500)\n",
    "# data_frame.tail(100)"
   ]
  },
  {
   "cell_type": "code",
   "execution_count": null,
   "metadata": {},
   "outputs": [],
   "source": [
    "df = data_frame.reset_index().values"
   ]
  },
  {
   "cell_type": "code",
   "execution_count": null,
   "metadata": {
    "scrolled": true
   },
   "outputs": [],
   "source": [
    "df"
   ]
  },
  {
   "cell_type": "code",
   "execution_count": null,
   "metadata": {
    "scrolled": false
   },
   "outputs": [],
   "source": [
    "pat_ids = df[:,2]\n",
    "pat_ids = pat_ids.tolist()\n",
    "pat_ids"
   ]
  },
  {
   "cell_type": "code",
   "execution_count": null,
   "metadata": {},
   "outputs": [],
   "source": [
    "data = '\\n'.join(pat_ids)\n",
    "f = open('whatever.txt', 'w+')\n",
    "f.write(data)\n",
    "f.close()"
   ]
  },
  {
   "cell_type": "code",
   "execution_count": null,
   "metadata": {},
   "outputs": [],
   "source": [
    "from datetime import datetime\n",
    "import re\n",
    "\n",
    "\n",
    "class namespace:\n",
    "    \n",
    "    def __init__(self, date=False, race=False):\n",
    "        \n",
    "        if date is True:\n",
    "            r = re.compile('[0-9]{4}-([0-1][0-9])-[0-9]+')\n",
    "            months = {1: 'Jan', 2: 'Feb', 3: 'Mar', 4: 'Apr', 5: 'May', 6: 'Jun', 7: 'Jul', 8: 'Aug', 9: 'Sep', 10: 'Oct', 11: 'Nov', 12: 'Dec'}\n",
    "        if race is True:\n",
    "            pass\n",
    "\n",
    "\n",
    "r = re.compile('[0-9]{4}-([0-1][0-9])-[0-9]+')\n",
    "Temp = []\n",
    "\n",
    "months = {1: 'Jan', 2: 'Feb', 3: 'Mar', 4: 'Apr', 5: 'May', 6: 'Jun', 7: 'Jul', 8: 'Aug', 9: 'Sep', 10: 'Oct', 11: 'Nov', 12: 'Dec'}\n",
    "for elem in df:\n",
    "    for x in elem:\n",
    "        if x == elem[2]:\n",
    "            Temp.append(re.findall(r, x))\n",
    "# print(Temp)        \n",
    "r = re.compile('^[0]{1}')\n",
    "for i, elem in enumerate(Temp):\n",
    "    for x in elem:\n",
    "        Temp[i] = re.sub(r,'', x)\n",
    "        \n",
    "# print(Temp)\n",
    "\n",
    "Test_Dict = {'Jan': 0, 'Feb': 0, 'Mar': 0, 'Apr': 0, 'May': 0, 'Jun': 0, 'Jul': 0, 'Aug': 0, 'Sep': 0, 'Oct': 0, 'Nov': 0, 'Dec': 0}\n",
    "for elem in Temp:\n",
    "    Test_Dict[months[int(elem)]] += 1\n",
    "    \n",
    "# print(Test_Dict)\n",
    "\n",
    "bins = list(range(1, 13))\n",
    "# print(bins)\n",
    "# print(list(Test_Dict.values()))\n",
    "        \n",
    "            # Is there a way to call column name rather than hard coding the number?\n",
    "            \n",
    "            # Need to use regular expression to find month number ('-xx-')\n",
    "            # Associate that number with a 'month' key in an empty dictionary\n",
    "            # add 1 to value of key each time a month is found for that key\n",
    "            # use these key:value pairs as x and y for histogram in pyplot\n",
    "            \n",
    "plt.bar(list(Test_Dict.keys()), list(Test_Dict.values()),color='k')\n"
   ]
  },
  {
   "cell_type": "code",
   "execution_count": null,
   "metadata": {},
   "outputs": [],
   "source": []
  }
 ],
 "metadata": {
  "kernelspec": {
   "display_name": "Python 3",
   "language": "python",
   "name": "python3"
  },
  "language_info": {
   "codemirror_mode": {
    "name": "ipython",
    "version": 3
   },
   "file_extension": ".py",
   "mimetype": "text/x-python",
   "name": "python",
   "nbconvert_exporter": "python",
   "pygments_lexer": "ipython3",
   "version": "3.7.4"
  }
 },
 "nbformat": 4,
 "nbformat_minor": 2
}
