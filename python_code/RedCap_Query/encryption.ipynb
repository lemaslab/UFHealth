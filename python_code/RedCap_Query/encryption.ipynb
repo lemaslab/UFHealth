{
 "cells": [
  {
   "cell_type": "code",
   "execution_count": 1,
   "metadata": {},
   "outputs": [],
   "source": [
    "# Imports - Always run this block first\n",
    "\n",
    "import BlueCrypt\n",
    "\n",
    "# In Jupyter, blocks can be run one at a time by clicking the block and pressing Shift+Enter\n",
    "# This will also move the current selected block to the next block"
   ]
  },
  {
   "cell_type": "code",
   "execution_count": 4,
   "metadata": {},
   "outputs": [],
   "source": [
    "# Run this block to encrypt an API token\n",
    "\n",
    "BlueCrypt.encry()"
   ]
  },
  {
   "cell_type": "code",
   "execution_count": 5,
   "metadata": {},
   "outputs": [
    {
     "name": "stdout",
     "output_type": "stream",
     "text": [
      "Valid API token and URL\n"
     ]
    }
   ],
   "source": [
    "# Run this block to verify whether your API token and URL are valid\n",
    "# You should connect to the VPN before running this block.\n",
    "\n",
    "BlueCrypt.verify(BlueCrypt.rc_url, BlueCrypt.rc_filepath)"
   ]
  },
  {
   "cell_type": "code",
   "execution_count": null,
   "metadata": {},
   "outputs": [],
   "source": [
    "# Run this block to generate a new encryption key\n",
    "# New key must be overwritten manually to Python file before it will work\n",
    "\n",
    "new_key = BlueCrypt.genrkey()\n",
    "\n",
    "new_key"
   ]
  },
  {
   "cell_type": "code",
   "execution_count": null,
   "metadata": {},
   "outputs": [],
   "source": []
  }
 ],
 "metadata": {
  "kernelspec": {
   "display_name": "Python 3",
   "language": "python",
   "name": "python3"
  },
  "language_info": {
   "codemirror_mode": {
    "name": "ipython",
    "version": 3
   },
   "file_extension": ".py",
   "mimetype": "text/x-python",
   "name": "python",
   "nbconvert_exporter": "python",
   "pygments_lexer": "ipython3",
   "version": "3.7.4"
  }
 },
 "nbformat": 4,
 "nbformat_minor": 2
}
