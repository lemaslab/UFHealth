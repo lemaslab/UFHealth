{
 "cells": [
  {
   "cell_type": "code",
   "execution_count": 2,
   "metadata": {},
   "outputs": [],
   "source": [
    "# Imports - Always run this block first\n",
    "\n",
    "import BlueCap\n",
    "import matplotlib.pyplot as plt\n",
    "import numpy as np\n",
    "\n",
    "# In Jupyter, blocks can be run one at a time by clicking the block and pressing Shift+Enter\n",
    "# This will also move the current selected block to the next block"
   ]
  },
  {
   "cell_type": "code",
   "execution_count": 3,
   "metadata": {},
   "outputs": [
    {
     "name": "stdout",
     "output_type": "stream",
     "text": [
      "0: part_id\n",
      "1: baby_race\n",
      "2: baby_ethnicity\n",
      "3: baby_dob\n",
      "4: baby_birth_wt_gr\n",
      "5: delivery_mode\n",
      "6: baby_admit_date\n",
      "7: baby_admit_source\n",
      "8: baby_gest_age\n",
      "9: baby_nicu_los\n",
      "10: days2_baby_admit\n",
      "11: baby_gender\n",
      "12: mom_id2\n",
      "13: mom_age_delivery\n",
      "14: payer\n",
      "15: days2_baby_vac\n",
      "16: baby_immune_date\n",
      "17: baby_vac_name\n",
      "18: baby_obs_date\n",
      "19: baby_ht_cm\n",
      "20: baby_wt_kgs\n",
      "21: baby_head_circ_cm\n",
      "22: days2_baby_wellvisit\n",
      "23: part_id2\n",
      "24: baby_ht1_date\n",
      "25: days2_baby_ht1\n",
      "26: baby_ht1_cm\n",
      "27: baby_hc1_date\n",
      "28: days2_baby_hc1\n",
      "29: baby_hc1_cm\n",
      "30: baby_med_order\n",
      "31: baby_med_code\n",
      "32: baby_meds\n",
      "33: days2_baby_meds\n",
      "34: baby_med_date\n",
      "35: baby_med_order_ip\n",
      "36: baby_mar_action_ip\n",
      "37: baby_med_code_ip\n",
      "38: baby_med_ip\n",
      "39: days2_baby_meds_ip\n",
      "40: baby_med_ip_date\n",
      "41: baby_asthma_date\n",
      "42: days2_baby_asthma_clinic\n",
      "43: baby_asthma_icd\n",
      "44: baby_fa_date\n",
      "45: days2_baby_fa_clinic\n",
      "46: baby_fa_icd\n",
      "47: baby_ear_infect_date\n",
      "48: days2_baby_ear_clinic\n",
      "49: baby_ear_infect_icd\n",
      "50: baby_eczema_date\n",
      "51: days2_baby_eczema_clinic\n",
      "52: baby_eczema_icd\n",
      "53: baby_dermatitis_date\n",
      "54: days2_baby_derm_clinic\n",
      "55: baby_dermatitis_icd\n",
      "56: baby_erythema_date\n",
      "57: days2_baby_eryth_clinic\n",
      "58: baby_erythema_icd\n",
      "59: baby_sebaceous_date\n",
      "60: days2_baby_sebac_clinic\n",
      "61: baby_sebaceous_icd\n",
      "62: baby_hemangioma_date\n",
      "63: days2_baby_hemang_clinic\n",
      "64: baby_hemangioma_icd\n",
      "65: baby_obesity_date\n",
      "66: baby_obesity_icd\n",
      "67: days2_baby_obesity_clinic\n",
      "68: baby_asthma_hosp_date\n",
      "69: days2_baby_asthma_hosp\n",
      "70: baby_asthma_hosp_icd\n",
      "71: baby_derm_hosp_date\n",
      "72: days2_baby_derm_hosp\n",
      "73: baby_derm_hosp_icd\n",
      "74: baby_ear_hosp_date\n",
      "75: days2_baby_ear_hosp\n",
      "76: baby_ear_hosp_icd\n",
      "77: baby_eczema_hosp_date\n",
      "78: days2_baby_eczema_hosp\n",
      "79: baby_eczema_hosp_icd\n",
      "80: baby_fa_hosp_date\n",
      "81: days2_baby_fa_hosp\n",
      "82: baby_fa_hosp_icd\n",
      "83: baby_hemang_hosp_date\n",
      "84: days2_baby_hemang_hosp\n",
      "85: baby_hemang_hosp_icd\n",
      "86: baby_sebaceous_hosp_date\n",
      "87: days2_baby_sebac_hosp\n",
      "88: baby_sebaceous_hosp_icd\n",
      "89: baby_obesity_hosp_date\n",
      "90: days2_baby_obesity_hosp\n",
      "91: baby_obesity_hosp_icd\n",
      "92: baby_erythema_hosp_date\n",
      "93: baby_erythema_hosp_icd\n",
      "94: days2_baby_eryth_hosp\n",
      "95: mom_race\n",
      "96: mom_ethnicity\n",
      "97: mom_prenat_apt_date\n",
      "98: mom_prenat_wt_oz\n",
      "99: mom_prenat_enc_type\n",
      "100: mom_prenat_ht_inch\n",
      "101: mom_prenat_ht\n",
      "102: mom_prenat_wt_lb\n",
      "103: mom_prenat_abxip_action\n",
      "104: mom_prenat_abxip\n",
      "105: mom_prenat_abxip_date\n",
      "106: mom_prenat_abxrx\n",
      "107: mom_prenat_abxrx_date\n",
      "108: mom_prenat_med_rx\n",
      "109: mom_prenat_med_rx_date\n",
      "110: mom_id\n",
      "111: mom_race_link\n",
      "112: mom_ethnicity_link\n",
      "113: mom_id3\n",
      "114: mom_prenat_apt_date_link\n",
      "115: mom_prenat_ht_link\n",
      "116: mom_prenat_wt_oz_link\n",
      "117: mom_prenat_enc_type_link\n",
      "118: days2_prenatal_apt_link\n",
      "119: mom_prenat_ht_inch_link\n",
      "120: mom_prenat_wt_lb_link\n",
      "121: mom_id4\n",
      "122: mom_prenat_abxip_date_link\n",
      "123: mom_prenat_abxip_action_link\n",
      "124: mom_prenat_abxip_link\n",
      "125: days2_prenatal_abxip_link\n",
      "126: mom_id5\n",
      "127: mom_prenat_abxrx_link\n",
      "128: mom_prenat_abxrx_date_link\n",
      "129: days2_prenatal_abxrx_link\n",
      "130: mom_id6\n",
      "131: mom_prenat_med_rx_link\n",
      "132: mom_med_rx_date_link\n",
      "133: days2_prenat_med_rx_link\n"
     ]
    }
   ],
   "source": [
    "# Run this block to show available fields to be extracted\n",
    "bc = BlueCap.QueryDatabase()\n",
    "bc.show_fields()"
   ]
  },
  {
   "cell_type": "code",
   "execution_count": null,
   "metadata": {},
   "outputs": [],
   "source": [
    "# Once you've chosen which fields to select, fill the fields list below\n",
    "# Ex: \n",
    "#    fields = ['baby_dob','baby_birth_wt_gr', 'baby_gender']\n",
    "#    **You do NOT need to add 'part_id' to the fields list, as it is extracted by default\n",
    "# Make sure you add '' around the field names when typing them into the list\n",
    "\n",
    "# You can also cull blank values in specified fields by altering the bottom line of code, adding the del_blank attribute\n",
    "# Ex: \n",
    "#    bc = BlueCap.QueryDatabase(fields=fields, del_blank=['baby_dob','baby_birth_wt_gr'])\n",
    "\n",
    "# Or the same thing can be done by adding elements to, then calling the del_blank list:\n",
    "# Ex:\n",
    "#    del_blank = ['baby_dob', 'baby_birth_wt_gr']\n",
    "#    bc = BlueCap.QueryDatabase(fields=fields, del_blank=del_blank)\n",
    "\n",
    "# Adding fields to del_blank is not required, as del_blank is an empty list by default\n",
    "# The order in which the fields are written doesn't matter; columns will be put in numerical order (seen by running the previous block)\n",
    "fields = ['baby_dob', 'baby_admit_date', 'delivery_mode', 'days2_baby_wellvisit']\n",
    "\n",
    "del_blank = ['baby_dob', 'baby_admit_date', 'delivery_mode', 'days2_baby_wellvisit']"
   ]
  },
  {
   "cell_type": "code",
   "execution_count": null,
   "metadata": {},
   "outputs": [],
   "source": [
    "# Run this line after adding desired fields to the fields list above\n",
    "# Adding elements to the del_blank list is optional\n",
    "\n",
    "# The returned value 'data_frame' is a pandas dataframe object\n",
    "\n",
    "bc = BlueCap.QueryDatabase(fields=fields, del_blank=del_blank)\n",
    "data_frame = bc.export()"
   ]
  },
  {
   "cell_type": "code",
   "execution_count": null,
   "metadata": {
    "scrolled": false
   },
   "outputs": [],
   "source": [
    "# You can run this block to get a visual of the head and tail ends of your extracted data\n",
    "\n",
    "data_frame.head(500)\n",
    "# data_frame.tail(100)"
   ]
  },
  {
   "cell_type": "code",
   "execution_count": null,
   "metadata": {},
   "outputs": [],
   "source": [
    "df = data_frame.reset_index().values"
   ]
  },
  {
   "cell_type": "code",
   "execution_count": null,
   "metadata": {
    "scrolled": true
   },
   "outputs": [],
   "source": [
    "df"
   ]
  },
  {
   "cell_type": "code",
   "execution_count": null,
   "metadata": {
    "scrolled": false
   },
   "outputs": [],
   "source": [
    "pat_ids = df[:,2]\n",
    "pat_ids = pat_ids.tolist()\n",
    "pat_ids"
   ]
  },
  {
   "cell_type": "code",
   "execution_count": null,
   "metadata": {},
   "outputs": [],
   "source": [
    "data = '\\n'.join(pat_ids)\n",
    "f = open('whatever.txt', 'w+')\n",
    "f.write(data)\n",
    "f.close()"
   ]
  }
 ],
 "metadata": {
  "kernelspec": {
   "display_name": "Python 3",
   "language": "python",
   "name": "python3"
  },
  "language_info": {
   "codemirror_mode": {
    "name": "ipython",
    "version": 3
   },
   "file_extension": ".py",
   "mimetype": "text/x-python",
   "name": "python",
   "nbconvert_exporter": "python",
   "pygments_lexer": "ipython3",
   "version": "3.7.4"
  }
 },
 "nbformat": 4,
 "nbformat_minor": 2
}
